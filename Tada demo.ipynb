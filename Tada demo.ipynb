{
 "cells": [
  {
   "cell_type": "markdown",
   "id": "c26836e3",
   "metadata": {},
   "source": [
    "# Globals"
   ]
  },
  {
   "cell_type": "markdown",
   "id": "c4594944",
   "metadata": {},
   "source": [
    "## You may want to play around with this"
   ]
  },
  {
   "cell_type": "code",
   "execution_count": 1,
   "id": "2a9d0406",
   "metadata": {},
   "outputs": [],
   "source": [
    "# v1 is faster, w/o footnote link;\n",
    "# v2 slower, w/ footnote links (if possible)\n",
    "API_VERSION = \"v2\""
   ]
  },
  {
   "cell_type": "markdown",
   "id": "dcc59db6",
   "metadata": {},
   "source": [
    "## Probably not change these"
   ]
  },
  {
   "cell_type": "code",
   "execution_count": 2,
   "id": "144e0d7f",
   "metadata": {},
   "outputs": [],
   "source": [
    "# If True, the answer will be based only on collections in knowledge base.\n",
    "# Otherwise, api will try to answer based on collections, but if it will not \n",
    "# succeed it will generate answer from the model weights themselves.\n",
    "# Everything happens under the hood, user don't have to specify anything.\n",
    "COLLECTIONS_ONLY = False \n",
    "API_URL = \"https://api.askguru.ai\"\n",
    "VENDOR = \"tada\"\n",
    "ORGANIZATION = \"common\"\n",
    "TADA_PASSWORD = \"0xdHscy8ZUvBdqQ7nC5Ef6wd\"\n",
    "SOURCE_PATTERN = r\"\\{ *'doc_idx' *: *'([^']*)'\\}\"\n",
    "STREAM_ANSWER = True\n",
    "IF_JUPYTER = True"
   ]
  },
  {
   "cell_type": "markdown",
   "id": "4eba86f3",
   "metadata": {},
   "source": [
    "## Collections names"
   ]
  },
  {
   "cell_type": "code",
   "execution_count": 3,
   "id": "ea637182",
   "metadata": {},
   "outputs": [],
   "source": [
    "COLLECTIONS_MAPPING = {\n",
    "    \"glavbuhqa\": \"Главбух: ответы на самые популярные вопросы за последний год\",\n",
    "    \"glavbuharticles\": \"Главбух: лучшие статьи за последний год по налогам, страховым взносам и бухгалтерскому учету\",\n",
    "    \"tgdulkarnaev\": \"Артур Дулкарнаев (налоговый юрист) — Telegram-канал\",\n",
    "    \"nalog\": \"Налоговый кодекс Российской Федерации (НК РФ)\",\n",
    "    \"zhilishchnyj\": \"Жилищный кодекс (ЖК РФ)\",\n",
    "    \"KoAP\": \"Кодекс об административных правонарушениях (КоАП РФ)\",\n",
    "    \"AO\": 'Федеральный закон \"Об АО\"',\n",
    "    \"UK\": \"Уголовный кодекс (УК РФ)\",\n",
    "    \"semejnyj\": \"Семейный кодекс (СК РФ)\",\n",
    "    \"trud\": \"Трудовой кодекс (ТК РФ)\",\n",
    "    \"tamozhnya\": \"Таможенный кодекс РФ от 28 мая 2003 г. N 61-ФЗ\",\n",
    "    \"arbitr\": \"Арбитражный процессуальный кодекс (АПК РФ)\",\n",
    "    \"zemlya\": \"Земельный кодекс (ЗК РФ)\",\n",
    "    \"buhgalter\": 'Федеральный закон \"О бухгалтерском учете\"',\n",
    "    \"grazhdan\": \"Гражданский кодекс Российской Федерации (ГК РФ)\",\n",
    "    \"grad\": \"Градостроительный кодекс РФ (ГрК РФ) от 29 декабря 2004 г. N 190-ФЗ\",\n",
    "    \"strahovanie\": 'Федеральный закон от 29 декабря 2006 г. N 255-ФЗ \"Об обязательном социальном страховании на случай временной нетрудоспособности и в связи с материнством\" (с изменениями и дополнениями)',\n",
    "    \"grazhdanoprocesualny\": \"Гражданский процессуальный кодекс (ГПК РФ)\",\n",
    "    \"konstitucia\": \"Конституция Российской Федерации\",\n",
    "    \"personalnyedannye\": 'Закон \"О персональных данных\"',\n",
    "    \"obrazovanie\": \"Закон об образовании\",\n",
    "    \"voennyi\": 'Федеральный закон \"О воинской обязанности и военной службе\"',\n",
    "    \"ohranazdorovia\": 'Федеральный закон от 21 ноября 2011 г. N 323-ФЗ \"Об основах охраны здоровья граждан в Российской Федерации\" (с изменениями и дополнениями)',\n",
    "    \"potrebytely\": 'Закон \"О защите прав потребителей\"',\n",
    "    \"goszakup\": 'Закон о контрактной системе (закон о госзакупках). Федеральный закон от 5 апреля 2013 г. N 44-ФЗ \"О контрактной системе в сфере закупок товаров, работ, услуг для обеспечения государственных и муниципальных нужд\" (с изменениями и дополнениями)',\n",
    "    \"profilaktika\": 'Федеральный закон от 24 июня 1999 г. N 120-ФЗ \"Об основах системы профилактики безнадзорности и правонарушений несовершеннолетних\" (с изменениями и дополнениями)',\n",
    "    \"pubvlast\": 'Федеральный закон от 21 декабря 2021 г. N 414-ФЗ \"Об общих принципах организации публичной власти в субъектах Российской Федерации\" (с изменениями и дополнениями)',\n",
    "}"
   ]
  },
  {
   "cell_type": "markdown",
   "id": "e60e383b",
   "metadata": {},
   "source": [
    "## Imports"
   ]
  },
  {
   "cell_type": "code",
   "execution_count": null,
   "id": "586266f4",
   "metadata": {},
   "outputs": [],
   "source": [
    "! pip install pandas loguru"
   ]
  },
  {
   "cell_type": "code",
   "execution_count": 4,
   "id": "f8cbbcc0",
   "metadata": {},
   "outputs": [],
   "source": [
    "import requests\n",
    "import json\n",
    "from loguru import logger\n",
    "import re\n",
    "import pandas as pd\n",
    "from pprint import pprint\n",
    "\n",
    "if IF_JUPYTER:\n",
    "    from IPython.display import Markdown, display, clear_output"
   ]
  },
  {
   "cell_type": "markdown",
   "id": "9e8f2576",
   "metadata": {},
   "source": [
    "# Api definition\n",
    "\n",
    "These are just API calls with fancy results displaying"
   ]
  },
  {
   "cell_type": "code",
   "execution_count": 5,
   "id": "8516e2e9",
   "metadata": {},
   "outputs": [],
   "source": [
    "class Api:\n",
    "    def __init__(self, api_url: str, api_version: str, source_pattern: str, collections_mapping: dict = {}, if_jupyter: bool = False):\n",
    "        self.api_url = api_url\n",
    "        self.api_version = api_version\n",
    "        self.token = None\n",
    "        self.if_jupyter = if_jupyter\n",
    "        self.source_pattern = source_pattern\n",
    "        self.collections_mapping = collections_mapping\n",
    "        self.collections = []\n",
    "\n",
    "    def _make_request(\n",
    "        self, method: str, endpoint: str, params: dict = {}, json: dict = {}\n",
    "    ):\n",
    "        url = f\"{self.api_url}/{self.api_version}{endpoint}\"\n",
    "        response = requests.request(\n",
    "            method,\n",
    "            url,\n",
    "            params=params,\n",
    "            json=json,\n",
    "            headers={\"Authorization\": f\"Bearer {self.token}\"},\n",
    "            stream=params.get(\"stream\", False),\n",
    "        )\n",
    "        if response.status_code != 200:\n",
    "            raise Exception(f\"Error: {response.status_code} {response.text}\")\n",
    "\n",
    "        return response\n",
    "\n",
    "    def info(self):\n",
    "        response = self._make_request(\"GET\", \"/info\").json()\n",
    "        logger.info(f\"Token info: {response}\")\n",
    "\n",
    "    def authenticate(self, vendor: str, organization: str, password: str):\n",
    "        json = {\"vendor\": vendor, \"organization\": organization, \"password\": password}\n",
    "        response = self._make_request(\"POST\", \"/collections/token\", json=json).json()\n",
    "        self.token = response[\"access_token\"]\n",
    "        logger.info(f\"Authenticated!\")\n",
    "\n",
    "    def get_collections(self):\n",
    "        response = self._make_request(\"GET\", \"/collections\").json()\n",
    "        text = \"\"\n",
    "        for collection in response[\"collections\"]:\n",
    "            text += f\"- `{collection['name']}` ({collection['n_documents']} документов)\"\n",
    "            text += f\" — {self.collections_mapping[collection['name']]}\" if collection['name'] in self.collections_mapping else \"\"\n",
    "            text += \"\\n\"\n",
    "        display(Markdown(text))\n",
    "        self.collections = [collection['name'] for collection in response[\"collections\"]]\n",
    "        return response[\"collections\"]\n",
    "\n",
    "    def upload_collection_documents(self, collection: str, documents: list):\n",
    "        json = {\"documents\": documents}\n",
    "        response = self._make_request(\"POST\", f\"/collections/{collection}\", json=json).json()\n",
    "        logger.info(f\"Uploaded documents: {response}\")\n",
    "    \n",
    "    def get_ranking(self, query: str, collections: list[str] = [], top_k: int = 5):\n",
    "        if not collections:\n",
    "            collections = self.collections\n",
    "        params = {\"query\": query, \"collections\": collections, \"top_k\": top_k}\n",
    "        response = self._make_request(\"GET\", \"/collections/ranking\", params=params).json()\n",
    "        text = \"Самые релевантные документы:\\n\"\n",
    "        for i, source in enumerate(response[\"sources\"]):\n",
    "            text += f\"{i + 1}. [{source['title'].replace('message text: ', '')}]({source['id']})\"\n",
    "            # text += f\" ({source['summary'].split('>')[0]})\" if '>' in source['summary'] else \"\"\n",
    "            text += f\" ({self.collections_mapping[source['collection']]})\" if source['collection'] in self.collections_mapping else \"\"\n",
    "            text += \"\\n\"\n",
    "        display(Markdown(text))\n",
    "        return response[\"sources\"]\n",
    "    \n",
    "    @staticmethod\n",
    "    def postprocess_output(s: str) -> str:\n",
    "        return s[: max(s.find(\")\"), s.rfind(\".\"), s.rfind(\"?\"), s.rfind(\"!\"), s.rfind(\"\\n\")) + 1]\n",
    "\n",
    "    def get_answer(self, query: str, user: str = \"\", collections: list[str] = [], collections_only: bool = False, stream: bool = False):\n",
    "        if not collections:\n",
    "            collections = self.collections\n",
    "        params = {\"collections\": collections, \"query\": query, \"user\": user, \"collections_only\": collections_only, \"stream\": stream}\n",
    "        response = self._make_request(\"GET\", f\"/collections/answer\", params=params)\n",
    "        if stream:\n",
    "            answer = \"\"\n",
    "            generated_sources = []\n",
    "            for line in response.iter_lines():\n",
    "                if line.startswith(b'event: '):\n",
    "                    event = line[len(b'event: '):].decode()\n",
    "                elif line.startswith(b'data: '):\n",
    "                    data_str = line[len(b'data: '):].decode()\n",
    "                    data = json.loads(data_str)\n",
    "                    if event == 'message':\n",
    "                        sources = data['sources']\n",
    "                        request_id = data['request_id']\n",
    "                        answer += data['answer']\n",
    "                        match = re.findall(self.source_pattern, answer)\n",
    "                        if match:\n",
    "                            idx = int(match[0])\n",
    "                            source = sources[idx]\n",
    "                            if source in generated_sources:\n",
    "                                num = generated_sources.index(source) + 1\n",
    "                            else:\n",
    "                                generated_sources.append(source)\n",
    "                                num = len(generated_sources)\n",
    "                            answer = re.sub(self.source_pattern, f\"[[{num}]]({source['id']})\", answer)\n",
    "                        if self.if_jupyter:\n",
    "                            clear_output(wait=True)\n",
    "                            display(Markdown(answer))\n",
    "                        else:\n",
    "                            print(answer, end='\\r')\n",
    "            answer = Api.postprocess_output(answer)\n",
    "            clear_output(wait=True)\n",
    "            display(Markdown(answer))\n",
    "            if generated_sources:\n",
    "                answer += \"\\n\\n**Источники:**\\n\"\n",
    "                for i, source in enumerate(generated_sources):\n",
    "                    answer += f\"{i + 1}. [{source['title'].replace('message text: ', '')}]({source['id']})\\n\"\n",
    "                clear_output(wait=True)\n",
    "                display(Markdown(answer))\n",
    "\n",
    "            response = {\"answer\": answer, \"sources\": sources, \"request_id\": request_id}\n",
    "        return response\n",
    "    \n",
    "    def set_reaction(self, request_id: str, rating: int):\n",
    "        json = {\"request_id\": request_id, \"rating\": rating}\n",
    "        response = self._make_request(\"POST\", \"/reactions\", json=json)\n",
    "        logger.info(response)\n",
    "        \n",
    "    def get_reactions(self):\n",
    "        response = self._make_request(\"GET\", \"/reactions\").json()\n",
    "        response = pd.DataFrame(response[\"reactions\"])\n",
    "        response.sort_values(by=\"datetime\", ascending=False, inplace=True)\n",
    "        return response\n",
    "    \n",
    "    def get_filters(self):\n",
    "        response = self._make_request(\"GET\", \"/filters\").json()\n",
    "        return response\n",
    "        \n",
    "    def upload_filter(self, name: str, stop_words: list[str], description: str = None):\n",
    "        json = {\"name\": name, \"description\": description, \"stop_words\": stop_words}\n",
    "        response = self._make_request(\"POST\", \"/filters\", json=json)\n",
    "        logger.info(response)\n",
    "        \n",
    "    def patch_filter(self, name: str, stop_words: list[str], description: str = None):\n",
    "        json = {\"name\": name, \"description\": description, \"stop_words\": stop_words}\n",
    "        response = self._make_request(\"PATCH\", \"/filters\", json=json)\n",
    "        logger.info(response)\n",
    "        \n",
    "    def archive_filter(self, name: str):\n",
    "        json = name\n",
    "        response = self._make_request(\"DELETE\", \"/filters\", json=json)\n",
    "        logger.info(response)"
   ]
  },
  {
   "cell_type": "code",
   "execution_count": 6,
   "id": "7cb564cb",
   "metadata": {},
   "outputs": [],
   "source": [
    "api = Api(api_url=API_URL, api_version=API_VERSION, source_pattern=SOURCE_PATTERN, collections_mapping=COLLECTIONS_MAPPING, if_jupyter=IF_JUPYTER)"
   ]
  },
  {
   "cell_type": "markdown",
   "id": "c9da6a8f",
   "metadata": {},
   "source": [
    "## Retrieving token"
   ]
  },
  {
   "cell_type": "code",
   "execution_count": 7,
   "id": "86b6b538",
   "metadata": {},
   "outputs": [
    {
     "name": "stderr",
     "output_type": "stream",
     "text": [
      "2023-05-28 15:56:04.120 | INFO     | __main__:authenticate:36 - Authenticated!\n",
      "2023-05-28 15:56:04.689 | INFO     | __main__:info:30 - Token info: {'vendor': 'tada', 'organization': 'common', 'security_groups': []}\n"
     ]
    }
   ],
   "source": [
    "api.authenticate(VENDOR, ORGANIZATION, TADA_PASSWORD)\n",
    "api.info()"
   ]
  },
  {
   "cell_type": "markdown",
   "id": "bf7d41eb",
   "metadata": {},
   "source": [
    "## Getting collections"
   ]
  },
  {
   "cell_type": "code",
   "execution_count": 8,
   "id": "f353fec4",
   "metadata": {},
   "outputs": [
    {
     "data": {
      "text/markdown": [
       "- `UK` (1080 документов) — Уголовный кодекс (УК РФ)\n",
       "- `buhgalter` (31 документов) — Федеральный закон \"О бухгалтерском учете\"\n",
       "- `goszakup` (799 документов) — Закон о контрактной системе (закон о госзакупках). Федеральный закон от 5 апреля 2013 г. N 44-ФЗ \"О контрактной системе в сфере закупок товаров, работ, услуг для обеспечения государственных и муниципальных нужд\" (с изменениями и дополнениями)\n",
       "- `glavbuhqa` (516 документов) — Главбух: ответы на самые популярные вопросы за последний год\n",
       "- `grazhdanoprocesualny` (729 документов) — Гражданский процессуальный кодекс (ГПК РФ)\n",
       "- `glavbuharticles` (3734 документов) — Главбух: лучшие статьи за последний год по налогам, страховым взносам и бухгалтерскому учету\n",
       "- `zhilishchnyj` (686 документов) — Жилищный кодекс (ЖК РФ)\n",
       "- `arbitr` (761 документов) — Арбитражный процессуальный кодекс (АПК РФ)\n",
       "- `strahovanie` (137 документов) — Федеральный закон от 29 декабря 2006 г. N 255-ФЗ \"Об обязательном социальном страховании на случай временной нетрудоспособности и в связи с материнством\" (с изменениями и дополнениями)\n",
       "- `ohranazdorovia` (402 документов) — Федеральный закон от 21 ноября 2011 г. N 323-ФЗ \"Об основах охраны здоровья граждан в Российской Федерации\" (с изменениями и дополнениями)\n",
       "- `zemlya` (657 документов) — Земельный кодекс (ЗК РФ)\n",
       "- `grazhdan` (2071 документов) — Гражданский кодекс Российской Федерации (ГК РФ)\n",
       "- `personalnyedannye` (95 документов) — Закон \"О персональных данных\"\n",
       "- `obrazovanie` (541 документов) — Закон об образовании\n",
       "- `grad` (1088 документов) — Градостроительный кодекс РФ (ГрК РФ) от 29 декабря 2004 г. N 190-ФЗ\n",
       "- `konstitucia` (186 документов) — Конституция Российской Федерации\n",
       "- `potrebytely` (116 документов) — Закон \"О защите прав потребителей\"\n",
       "- `profilaktika` (117 документов) — Федеральный закон от 24 июня 1999 г. N 120-ФЗ \"Об основах системы профилактики безнадзорности и правонарушений несовершеннолетних\" (с изменениями и дополнениями)\n",
       "- `pubvlast` (274 документов) — Федеральный закон от 21 декабря 2021 г. N 414-ФЗ \"Об общих принципах организации публичной власти в субъектах Российской Федерации\" (с изменениями и дополнениями)\n",
       "- `KoAP` (2752 документов) — Кодекс об административных правонарушениях (КоАП РФ)\n",
       "- `tgdulkarnaev` (503 документов) — Артур Дулкарнаев (налоговый юрист) — Telegram-канал\n",
       "- `trud` (930 документов) — Трудовой кодекс (ТК РФ)\n",
       "- `tamozhnya` (1 документов) — Таможенный кодекс РФ от 28 мая 2003 г. N 61-ФЗ\n",
       "- `AO` (420 документов) — Федеральный закон \"Об АО\"\n",
       "- `semejnyj` (239 документов) — Семейный кодекс (СК РФ)\n",
       "- `nalog` (5969 документов) — Налоговый кодекс Российской Федерации (НК РФ)\n",
       "- `voennyi` (282 документов) — Федеральный закон \"О воинской обязанности и военной службе\"\n"
      ],
      "text/plain": [
       "<IPython.core.display.Markdown object>"
      ]
     },
     "metadata": {},
     "output_type": "display_data"
    }
   ],
   "source": [
    "collections = api.get_collections()"
   ]
  },
  {
   "cell_type": "markdown",
   "id": "2fe2c3ce",
   "metadata": {},
   "source": [
    "# Getting answers!\n",
    "\n",
    "Play around here, ask your own questions.\n",
    "\n",
    "You may want to specify collections to search in, but by default all available collections will be used.\n",
    "\n",
    "You may use `api.get_ranking` to retrieve most relevant docs although it is not mandatory for the answer.\n",
    "\n",
    "Note that API requests for questions which refer to existing knowledge and which use internal knowledge are the same.\n",
    "The model under the hood decides if it is appropriate to use knowledge from knowledge base."
   ]
  },
  {
   "cell_type": "markdown",
   "id": "f05ea4fb",
   "metadata": {},
   "source": [
    "## Questions which refer to existing knowledge"
   ]
  },
  {
   "cell_type": "code",
   "execution_count": 9,
   "id": "24953677",
   "metadata": {},
   "outputs": [],
   "source": [
    "# you may specify any user identifier here\n",
    "USER = \"322\""
   ]
  },
  {
   "cell_type": "markdown",
   "id": "8e70d25a",
   "metadata": {},
   "source": [
    "### Glavbuh QA"
   ]
  },
  {
   "cell_type": "code",
   "execution_count": 10,
   "id": "a44fd491",
   "metadata": {},
   "outputs": [
    {
     "data": {
      "text/markdown": [
       "Самые релевантные документы:\n",
       "1. [НДФЛ с иностранных граждан временно пребывающих на патенте](https://www.glavbukh.ru/hl/2041692-ndfl-s-inostrannyh-grajdan-vremenno-prebyvayushchih-na-patente) (Главбух: ответы на самые популярные вопросы за последний год)\n",
       "2. [Как дистанционному сотруднику платить российский НДФЛ и надо ли](https://t.me/arturdulkarnaev) (Артур Дулкарнаев (налоговый юрист) — Telegram-канал)\n",
       "3. [РБК пишет, что у переехавших за границу и ставших нерезидентами есть вариант зарегистрироваться самозанятыми. Я считаю, что это сработает только если вы не будете получать оплату по договору от нынешнего или бывшего работодателя](https://t.me/arturdulkarnaev) (Артур Дулкарнаев (налоговый юрист) — Telegram-канал)\n",
       "4. [НДФЛ с нерезидентов в 2023 году | Ставка НДФЛ для иностранных граждан](https://www.glavbukh.ru/art/91466-ndfl-s-nerezidentov-v-2023-godu-stavka-ndfl-dlya-inostrannyh-grajdan) (Главбух: лучшие статьи за последний год по налогам, страховым взносам и бухгалтерскому учету)\n",
       "5. [❓У меня часто спрашивают, мол, российский ИП на УСН с налоговой ставкой 6 процентов уехал в Армению и прожил там больше 183 дней в 2022 году. Надо ли теперь такому ИП пересчитать налоги и начать платить НДФЛ по ставке 30 процентов? Деятельность идет, деньги приходят на российский счет](https://t.me/arturdulkarnaev) (Артур Дулкарнаев (налоговый юрист) — Telegram-канал)\n"
      ],
      "text/plain": [
       "<IPython.core.display.Markdown object>"
      ]
     },
     "metadata": {},
     "output_type": "display_data"
    }
   ],
   "source": [
    "query = \"НДФЛ с иностранных граждан временно пребывающих на патенте, перечислять нужно отдельным платежом, как и в ФСС НС?\"\n",
    "sources = api.get_ranking(query)"
   ]
  },
  {
   "cell_type": "code",
   "execution_count": 11,
   "id": "b780ff4a",
   "metadata": {},
   "outputs": [
    {
     "data": {
      "text/markdown": [
       "Да, НДФЛ с доходов иностранных граждан временно пребывающих на патенте нужно перечислять отдельным платежным поручением. Это осуществляется самостоятельно и не включается в единый налоговый платеж[[1]](https://www.glavbukh.ru/hl/2041692-ndfl-s-inostrannyh-grajdan-vremenno-prebyvayushchih-na-patente).\n",
       "\n",
       "**Источники:**\n",
       "1. [НДФЛ с иностранных граждан временно пребывающих на патенте](https://www.glavbukh.ru/hl/2041692-ndfl-s-inostrannyh-grajdan-vremenno-prebyvayushchih-na-patente)\n"
      ],
      "text/plain": [
       "<IPython.core.display.Markdown object>"
      ]
     },
     "metadata": {},
     "output_type": "display_data"
    },
    {
     "name": "stderr",
     "output_type": "stream",
     "text": [
      "2023-05-28 15:56:27.260 | INFO     | __main__:set_reaction:121 - <Response [200]>\n"
     ]
    }
   ],
   "source": [
    "response = api.get_answer(query, user=USER, collections_only=COLLECTIONS_ONLY, stream=STREAM_ANSWER)\n",
    "api.set_reaction(request_id=response[\"request_id\"], rating=5)"
   ]
  },
  {
   "cell_type": "markdown",
   "id": "51bd2ff3",
   "metadata": {},
   "source": [
    "### Glavbuh Articles"
   ]
  },
  {
   "cell_type": "code",
   "execution_count": 12,
   "id": "3f5d4a9d",
   "metadata": {},
   "outputs": [
    {
     "data": {
      "text/markdown": [
       "Самые релевантные документы:\n",
       "1. [Новые правила предоставления отпусков в 2023 году: разъяснения](https://www.glavbukh.ru/art/386195-novye-pravila-predostavleniya-otpuskov-v-2023-godu-razyasneniya) (Главбух: лучшие статьи за последний год по налогам, страховым взносам и бухгалтерскому учету)\n",
       "2. [Новые правила предоставления отпусков в 2023 году](https://www.glavbukh.ru/art/388043-novye-pravila-predostavleniya-otpuskov-v-2023-godu) (Главбух: лучшие статьи за последний год по налогам, страховым взносам и бухгалтерскому учету)\n",
       "3. [Заявления на отпуск: образцы 2023 года](https://www.glavbukh.ru/art/386331-zayavleniya-na-otpusk-obraztsy-2023-goda) (Главбух: лучшие статьи за последний год по налогам, страховым взносам и бухгалтерскому учету)\n",
       "4. [Изменится срок выплаты отпускных в 2023 году](https://www.glavbukh.ru/art/388102-izmenitsya-srok-vyplaty-otpusknyh-v-2023-godu) (Главбух: лучшие статьи за последний год по налогам, страховым взносам и бухгалтерскому учету)\n",
       "5. [Когда выгодно брать отпуск в 2023 году по деньгам: таблица по месяцам](https://www.glavbukh.ru/art/386238-kogda-vygodno-brat-otpusk-v-2023-godu-po-dengam-tablitsa-po-mesyatsam) (Главбух: лучшие статьи за последний год по налогам, страховым взносам и бухгалтерскому учету)\n"
      ],
      "text/plain": [
       "<IPython.core.display.Markdown object>"
      ]
     },
     "metadata": {},
     "output_type": "display_data"
    }
   ],
   "source": [
    "query = \"Новые правила по отпускным 2023\"\n",
    "sources = api.get_ranking(query)"
   ]
  },
  {
   "cell_type": "code",
   "execution_count": 13,
   "id": "85ea3b9a",
   "metadata": {},
   "outputs": [
    {
     "data": {
      "text/markdown": [
       "В 2023 году утверждены новые правила предоставления отпусков. Изменения в Трудовом кодексе расширили категории работников, которые могут требовать предоставления отпуска в любое время. Вот некоторые ключевые изменения:\n",
       "\n",
       "1. Сотрудникам с трех или более детьми до 18 лет предоставляется отпуск в удобное для них время до достижения младшим из детей 14 лет или одному из старших – 18 лет. Как только младшему исполнилось 14 или одному из старших – 18, сотрудник теряет право на льготу [[1]](https://www.glavbukh.ru/art/386195-novye-pravila-predostavleniya-otpuskov-v-2023-godu-razyasneniya).\n",
       "\n",
       "2. Сотрудникам, призванным на службу в рамках частичной мобилизации, предоставляется отпуск в любое удобное время в течение 6-ти месяцев с момента восстановления на работе (ст. 351.7 ТК) [[2]](https://www.glavbukh.ru/art/388043-novye-pravila-predostavleniya-otpuskov-v-2023-godu).\n",
       "\n",
       "Также планируются изменения в сроке выдачи отпускных, установленном в статье 136 ТК. Госдума рассматривает проект, который касается ситуации, когда сотрудник подает заявление на отпуск за три дня или меньше до его начала. Для этого случая предусмотрят два срока в зависимости от способа выплаты денег [[1]](https://www.glavbukh.ru/art/386195-novye-pravila-predostavleniya-otpuskov-v-2023-godu-razyasneniya).\n",
       "\n",
       "\n",
       "\n",
       "**Источники:**\n",
       "1. [Новые правила предоставления отпусков в 2023 году: разъяснения](https://www.glavbukh.ru/art/386195-novye-pravila-predostavleniya-otpuskov-v-2023-godu-razyasneniya)\n",
       "2. [Новые правила предоставления отпусков в 2023 году](https://www.glavbukh.ru/art/388043-novye-pravila-predostavleniya-otpuskov-v-2023-godu)\n"
      ],
      "text/plain": [
       "<IPython.core.display.Markdown object>"
      ]
     },
     "metadata": {},
     "output_type": "display_data"
    },
    {
     "name": "stderr",
     "output_type": "stream",
     "text": [
      "2023-05-28 15:57:54.606 | INFO     | __main__:set_reaction:121 - <Response [200]>\n"
     ]
    }
   ],
   "source": [
    "response = api.get_answer(query, user=USER, collections_only=COLLECTIONS_ONLY, stream=STREAM_ANSWER)\n",
    "api.set_reaction(request_id=response[\"request_id\"], rating=4)"
   ]
  },
  {
   "cell_type": "markdown",
   "id": "08003b1b",
   "metadata": {},
   "source": [
    "### Telegram @dulkarnaev"
   ]
  },
  {
   "cell_type": "code",
   "execution_count": 14,
   "id": "d100fdfc",
   "metadata": {},
   "outputs": [
    {
     "data": {
      "text/markdown": [
       "Самые релевантные документы:\n",
       "1. [Максимальный штраф для физических лиц, если не подать отчет о движении денег и иных финансовых активов или подать такой отчет позже срока или подать с ошибками, составляет 3 тысячи рублей](https://t.me/arturdulkarnaev) (Артур Дулкарнаев (налоговый юрист) — Telegram-канал)\n",
       "2. [Штрафы в сфере валютного законодательства](https://t.me/arturdulkarnaev) (Артур Дулкарнаев (налоговый юрист) — Telegram-канал)\n",
       "3. [Тезисы про декларирование зарубежных счетов 2/2](https://t.me/arturdulkarnaev) (Артур Дулкарнаев (налоговый юрист) — Telegram-канал)\n",
       "4. [Есть два случая, когда можно не подавать отчет о движении денег и иных финансовых активов за 2022 год. На мой взгляд, лучше подать отчет, даже если вы по закону можете его не подавать](https://t.me/arturdulkarnaev) (Артур Дулкарнаев (налоговый юрист) — Telegram-канал)\n",
       "5. [Штраф за незаконную валютную операцию можно снизить на 50 процентов, если оплатить штраф в течение 20 дней после того, как налоговая вас оштрафует](https://t.me/arturdulkarnaev) (Артур Дулкарнаев (налоговый юрист) — Telegram-канал)\n"
      ],
      "text/plain": [
       "<IPython.core.display.Markdown object>"
      ]
     },
     "metadata": {},
     "output_type": "display_data"
    }
   ],
   "source": [
    "query = \"штраф за неподачу отчета о движении денег\"\n",
    "sources = api.get_ranking(query)"
   ]
  },
  {
   "cell_type": "code",
   "execution_count": 15,
   "id": "c7b7ec57",
   "metadata": {},
   "outputs": [
    {
     "data": {
      "text/markdown": [
       "Штраф за неподачу отчета о движении денег и иных финансовых активов для физических лиц составляет от 2 000 до 3 000 рублей. Если повторно не подать отчет, то штраф составит 20 тысяч рублей [[1]](https://t.me/arturdulkarnaev).\n",
       "\n",
       "**Источники:**\n",
       "1. [Максимальный штраф для физических лиц, если не подать отчет о движении денег и иных финансовых активов или подать такой отчет позже срока или подать с ошибками, составляет 3 тысячи рублей](https://t.me/arturdulkarnaev)\n"
      ],
      "text/plain": [
       "<IPython.core.display.Markdown object>"
      ]
     },
     "metadata": {},
     "output_type": "display_data"
    },
    {
     "name": "stderr",
     "output_type": "stream",
     "text": [
      "2023-05-28 15:58:20.290 | INFO     | __main__:set_reaction:121 - <Response [200]>\n"
     ]
    }
   ],
   "source": [
    "response = api.get_answer(query, user=USER, collections_only=COLLECTIONS_ONLY, stream=STREAM_ANSWER)\n",
    "api.set_reaction(request_id=response[\"request_id\"], rating=5)"
   ]
  },
  {
   "cell_type": "markdown",
   "id": "4c1330dc",
   "metadata": {},
   "source": [
    "### Taxes"
   ]
  },
  {
   "cell_type": "code",
   "execution_count": 16,
   "id": "84ea07a6",
   "metadata": {},
   "outputs": [
    {
     "data": {
      "text/markdown": [
       "Самые релевантные документы:\n",
       "1. [Статья 218. Стандартные налоговые вычеты](https://base.garant.ru/10900200/1458a0a55ea2ab5e42fde990265bcdf4/) (Налоговый кодекс Российской Федерации (НК РФ))\n",
       "2. [Статья 219. Социальные налоговые вычеты](https://base.garant.ru/10900200/2c2d4c47652499da777b2c19de85035c/) (Налоговый кодекс Российской Федерации (НК РФ))\n",
       "3. [Статья 45. Исполнение обязанности по уплате налога, сбора, страховых взносов](https://base.garant.ru/10900200/c7f0164139c159e5c4e7786790ae469d/) (Налоговый кодекс Российской Федерации (НК РФ))\n",
       "4. [Все налоги с зарплаты в 2023 году в процентах: таблица, примеры](https://www.glavbukh.ru/art/387852-vse-nalogi-s-zarplaty-v-2023-godu-v-protsentah-tablitsa-primery) (Главбух: лучшие статьи за последний год по налогам, страховым взносам и бухгалтерскому учету)\n",
       "5. [Статья 7. Международные договоры по вопросам налогообложения](https://base.garant.ru/10900200/e88847e78ccd9fdb54482c7fa15982bf/) (Налоговый кодекс Российской Федерации (НК РФ))\n"
      ],
      "text/plain": [
       "<IPython.core.display.Markdown object>"
      ]
     },
     "metadata": {},
     "output_type": "display_data"
    }
   ],
   "source": [
    "query = \"налоговые вычеты для студентов многодетных семей нк рф, коротко\"\n",
    "sources = api.get_ranking(query)"
   ]
  },
  {
   "cell_type": "code",
   "execution_count": 17,
   "id": "2d5dd6d7",
   "metadata": {},
   "outputs": [
    {
     "data": {
      "text/markdown": [
       "Стандартный налоговый вычет предоставляется на каждого ребенка в возрасте до 18 лет, а также на каждого студента в возрасте до 24 лет, обучающегося по очной форме. Вычет составляет 6 000 рублей на каждого ребенка. Для единственного родителя (приемного родителя), усыновителя, опекуна, попечителя вычет предоставляется в двойном размере. Социальный налоговый вычет предоставляется налогоплательщиком-родителем за обучение своих детей до 24 лет в размере фактически произведенных расходов на обучение, но не более 50 000 рублей на каждого ребенка в общей сумме на обоих родителей [[1]](https://base.garant.ru/10900200/1458a0a55ea2ab5e42fde990265bcdf4/) [[2]](https://base.garant.ru/10900200/2c2d4c47652499da777b2c19de85035c/).\n",
       "\n",
       "**Источники:**\n",
       "1. [Статья 218. Стандартные налоговые вычеты](https://base.garant.ru/10900200/1458a0a55ea2ab5e42fde990265bcdf4/)\n",
       "2. [Статья 219. Социальные налоговые вычеты](https://base.garant.ru/10900200/2c2d4c47652499da777b2c19de85035c/)\n"
      ],
      "text/plain": [
       "<IPython.core.display.Markdown object>"
      ]
     },
     "metadata": {},
     "output_type": "display_data"
    },
    {
     "name": "stderr",
     "output_type": "stream",
     "text": [
      "2023-05-28 15:59:09.246 | INFO     | __main__:set_reaction:121 - <Response [200]>\n"
     ]
    }
   ],
   "source": [
    "response = api.get_answer(query, user=USER, collections_only=COLLECTIONS_ONLY, stream=STREAM_ANSWER)\n",
    "api.set_reaction(request_id=response[\"request_id\"], rating=5)"
   ]
  },
  {
   "cell_type": "markdown",
   "id": "b25c6238",
   "metadata": {},
   "source": [
    "### Labor"
   ]
  },
  {
   "cell_type": "code",
   "execution_count": 18,
   "id": "19e410cc",
   "metadata": {},
   "outputs": [
    {
     "data": {
      "text/markdown": [
       "Самые релевантные документы:\n",
       "1. [Оформление и оплата работы в выходные и праздничные дни по ТК РФ в 2023 году](https://www.glavbukh.ru/art/100641-oformlenie-i-oplata-raboty-v-vyhodnye-i-prazdnichnye-dni-po-tk-rf-v-2023-godu) (Главбух: лучшие статьи за последний год по налогам, страховым взносам и бухгалтерскому учету)\n",
       "2. [Норма времени при расчете праздничных часов для расчета тарифной ставки](https://www.glavbukh.ru/hl/2030084-norma-vremeni-pri-raschete-prazdnichnyh-chasov-dlya-rascheta-tarifnoy-stavki) (Главбух: ответы на самые популярные вопросы за последний год)\n",
       "3. [31 декабря 2022 года выходной или рабочий день](https://www.glavbukh.ru/art/100634-31-dekabrya-2022-goda-vyhodnoy-ili-rabochiy-den) (Главбух: лучшие статьи за последний год по налогам, страховым взносам и бухгалтерскому учету)\n",
       "4. [Почему лучше выбрать двойную оплату за работу в праздник](https://www.glavbukh.ru/art/387261-pochemu-luchshe-vybrat-dvoynuyu-oplatu-za-rabotu-v-prazdnik) (Главбух: лучшие статьи за последний год по налогам, страховым взносам и бухгалтерскому учету)\n",
       "5. [1 сентября 2022 года выходной или рабочий день в России: последние новости](https://www.glavbukh.ru/art/387759-1-sentyabrya-2022-goda-vyhodnoy-ili-rabochiy-den-v-rossii-poslednie-novosti) (Главбух: лучшие статьи за последний год по налогам, страховым взносам и бухгалтерскому учету)\n"
      ],
      "text/plain": [
       "<IPython.core.display.Markdown object>"
      ]
     },
     "metadata": {},
     "output_type": "display_data"
    }
   ],
   "source": [
    "query = \"Исключается ли из оплаты сверхурочных работ работы, выполненные работником в выходной день?\"\n",
    "sources = api.get_ranking(query)"
   ]
  },
  {
   "cell_type": "code",
   "execution_count": 19,
   "id": "c75c90db",
   "metadata": {},
   "outputs": [
    {
     "data": {
      "text/markdown": [
       "Согласно статье 153 ТК, работу в выходной или праздничный день оплачивайте исходя из часовой или дневной ставки сверх оклада. Если сотрудник переработал месячную норму, рассчитайте доплату за работу в выходной или праздничный день. Таким образом, оплата за работу в выходной день не исключается из оплаты сверхурочных работ, а оплачивается отдельно с учетом условий, указанных в Трудовом кодексе и внутренних документах организации [[1]](https://www.glavbukh.ru/hl/2030084-norma-vremeni-pri-raschete-prazdnichnyh-chasov-dlya-rascheta-tarifnoy-stavki).\n",
       "\n",
       "**Источники:**\n",
       "1. [Норма времени при расчете праздничных часов для расчета тарифной ставки](https://www.glavbukh.ru/hl/2030084-norma-vremeni-pri-raschete-prazdnichnyh-chasov-dlya-rascheta-tarifnoy-stavki)\n"
      ],
      "text/plain": [
       "<IPython.core.display.Markdown object>"
      ]
     },
     "metadata": {},
     "output_type": "display_data"
    },
    {
     "name": "stderr",
     "output_type": "stream",
     "text": [
      "2023-05-28 15:59:47.157 | INFO     | __main__:set_reaction:121 - <Response [200]>\n"
     ]
    }
   ],
   "source": [
    "response = api.get_answer(query, user=USER, collections_only=COLLECTIONS_ONLY, stream=STREAM_ANSWER)\n",
    "api.set_reaction(request_id=response[\"request_id\"], rating=5)"
   ]
  },
  {
   "cell_type": "markdown",
   "id": "16739a44",
   "metadata": {},
   "source": [
    "## Common knowledge questions"
   ]
  },
  {
   "cell_type": "markdown",
   "id": "f1e5cfd3",
   "metadata": {},
   "source": [
    "### EBITDA"
   ]
  },
  {
   "cell_type": "code",
   "execution_count": 20,
   "id": "ec1a2dd4",
   "metadata": {},
   "outputs": [
    {
     "data": {
      "text/markdown": [
       "EBITDA (Earnings Before Interest, Taxes, Depreciation, and Amortization) - это показатель прибыли компании до учета процентов, налогов, амортизации и износа. EBITDA используется для анализа финансовой эффективности компании и сравнения с другими компаниями в отрасли.\n",
       "\n",
       "Расчет EBITDA производится по следующей формуле:\n",
       "\n",
       "EBITDA = Чистая прибыль + Проценты + Налоги + Амортизация + Износ\n",
       "\n",
       "1. Чистая прибыль - это доходы компании минус расходы, не включая проценты, налоги, амортизацию и износ.\n",
       "2. Проценты - это платежи по процентам по кредитам и займам.\n",
       "3. Налоги - это налог на прибыль, который компания обязана уплатить государству.\n",
       "4. Амортизация - это систематическое распределение стоимости долгосрочных активов компании на протяжении их срока службы.\n",
       "5. Износ - это учет снижения стоимости основных средств в результате их использования и старения.\n",
       "\n",
       "Подсчитав все эти компоненты и применив формулу, вы получите значение EBITDA для анализа финансовой эффективности компании."
      ],
      "text/plain": [
       "<IPython.core.display.Markdown object>"
      ]
     },
     "metadata": {},
     "output_type": "display_data"
    },
    {
     "name": "stderr",
     "output_type": "stream",
     "text": [
      "2023-05-28 16:00:57.268 | INFO     | __main__:set_reaction:121 - <Response [200]>\n"
     ]
    }
   ],
   "source": [
    "query = \"как расчитывается ebitda\"\n",
    "response = api.get_answer(query, user=USER, collections_only=COLLECTIONS_ONLY, stream=STREAM_ANSWER)\n",
    "api.set_reaction(request_id=response[\"request_id\"], rating=5)"
   ]
  },
  {
   "cell_type": "markdown",
   "id": "44bf07ec",
   "metadata": {},
   "source": [
    "### Design pricing"
   ]
  },
  {
   "cell_type": "code",
   "execution_count": 21,
   "id": "00f8cfd6",
   "metadata": {},
   "outputs": [
    {
     "data": {
      "text/markdown": [
       "Средняя стоимость дизайнера в час на рынке может варьироваться в зависимости от опыта, местоположения и специализации дизайнера. В среднем, стоимость услуг дизайнера в час может колебаться от 500 до 2500 рублей. Опытные дизайнеры или те, кто специализируется на определенных областях, могут взимать более высокую плату. Также стоит учитывать, что цены могут отличаться в зависимости от региона и спроса на услуги дизайнера."
      ],
      "text/plain": [
       "<IPython.core.display.Markdown object>"
      ]
     },
     "metadata": {},
     "output_type": "display_data"
    },
    {
     "name": "stderr",
     "output_type": "stream",
     "text": [
      "2023-05-28 16:01:35.324 | INFO     | __main__:set_reaction:121 - <Response [200]>\n"
     ]
    }
   ],
   "source": [
    "query = \"какова средняя стоимость дизайнера в час на рынке\"\n",
    "response = api.get_answer(query, user=USER, collections_only=COLLECTIONS_ONLY, stream=STREAM_ANSWER)\n",
    "api.set_reaction(request_id=response[\"request_id\"], rating=4)"
   ]
  },
  {
   "cell_type": "markdown",
   "id": "f6c79ee0",
   "metadata": {},
   "source": [
    "# Retrieving logs with feedback"
   ]
  },
  {
   "cell_type": "code",
   "execution_count": 22,
   "id": "4afa942c",
   "metadata": {},
   "outputs": [
    {
     "data": {
      "text/html": [
       "<div>\n",
       "<style scoped>\n",
       "    .dataframe tbody tr th:only-of-type {\n",
       "        vertical-align: middle;\n",
       "    }\n",
       "\n",
       "    .dataframe tbody tr th {\n",
       "        vertical-align: top;\n",
       "    }\n",
       "\n",
       "    .dataframe thead th {\n",
       "        text-align: right;\n",
       "    }\n",
       "</style>\n",
       "<table border=\"1\" class=\"dataframe\">\n",
       "  <thead>\n",
       "    <tr style=\"text-align: right;\">\n",
       "      <th></th>\n",
       "      <th>id</th>\n",
       "      <th>datetime</th>\n",
       "      <th>query</th>\n",
       "      <th>answer</th>\n",
       "      <th>api_version</th>\n",
       "      <th>collections</th>\n",
       "      <th>user</th>\n",
       "      <th>rating</th>\n",
       "      <th>like_status</th>\n",
       "      <th>comment</th>\n",
       "    </tr>\n",
       "  </thead>\n",
       "  <tbody>\n",
       "    <tr>\n",
       "      <th>172</th>\n",
       "      <td>64730a41602c5c7bcd4c076e</td>\n",
       "      <td>2023-05-28T08:01:05.786000</td>\n",
       "      <td>какова средняя стоимость дизайнера в час на рынке</td>\n",
       "      <td>Средняя стоимость дизайнера в час на рынке мож...</td>\n",
       "      <td>v2</td>\n",
       "      <td>[UK, buhgalter, goszakup, glavbuhqa, grazhdano...</td>\n",
       "      <td>322</td>\n",
       "      <td>4.0</td>\n",
       "      <td>None</td>\n",
       "      <td>None</td>\n",
       "    </tr>\n",
       "    <tr>\n",
       "      <th>171</th>\n",
       "      <td>647309fb602c5c7bcd4c076d</td>\n",
       "      <td>2023-05-28T07:59:55.948000</td>\n",
       "      <td>как расчитывается ebitda</td>\n",
       "      <td>EBITDA (Earnings Before Interest, Taxes, Depre...</td>\n",
       "      <td>v2</td>\n",
       "      <td>[UK, buhgalter, goszakup, glavbuhqa, grazhdano...</td>\n",
       "      <td>322</td>\n",
       "      <td>5.0</td>\n",
       "      <td>None</td>\n",
       "      <td>None</td>\n",
       "    </tr>\n",
       "    <tr>\n",
       "      <th>170</th>\n",
       "      <td>647309d8602c5c7bcd4c076c</td>\n",
       "      <td>2023-05-28T07:59:20.439000</td>\n",
       "      <td>Исключается ли из оплаты сверхурочных работ ра...</td>\n",
       "      <td>Согласно статье 153 ТК, работу в выходной или ...</td>\n",
       "      <td>v2</td>\n",
       "      <td>[UK, buhgalter, goszakup, glavbuhqa, grazhdano...</td>\n",
       "      <td>322</td>\n",
       "      <td>5.0</td>\n",
       "      <td>None</td>\n",
       "      <td>None</td>\n",
       "    </tr>\n",
       "    <tr>\n",
       "      <th>169</th>\n",
       "      <td>647309a7602c5c7bcd4c076b</td>\n",
       "      <td>2023-05-28T07:58:31.531000</td>\n",
       "      <td>налоговые вычеты для студентов многодетных сем...</td>\n",
       "      <td>Стандартный налоговый вычет предоставляется на...</td>\n",
       "      <td>v2</td>\n",
       "      <td>[UK, buhgalter, goszakup, glavbuhqa, grazhdano...</td>\n",
       "      <td>322</td>\n",
       "      <td>5.0</td>\n",
       "      <td>None</td>\n",
       "      <td>None</td>\n",
       "    </tr>\n",
       "    <tr>\n",
       "      <th>168</th>\n",
       "      <td>6473098e602c5c7bcd4c076a</td>\n",
       "      <td>2023-05-28T07:58:06.369000</td>\n",
       "      <td>штраф за неподачу отчета о движении денег</td>\n",
       "      <td>Штраф за неподачу отчета о движении денег и ин...</td>\n",
       "      <td>v2</td>\n",
       "      <td>[UK, buhgalter, goszakup, glavbuhqa, grazhdano...</td>\n",
       "      <td>322</td>\n",
       "      <td>5.0</td>\n",
       "      <td>None</td>\n",
       "      <td>None</td>\n",
       "    </tr>\n",
       "    <tr>\n",
       "      <th>...</th>\n",
       "      <td>...</td>\n",
       "      <td>...</td>\n",
       "      <td>...</td>\n",
       "      <td>...</td>\n",
       "      <td>...</td>\n",
       "      <td>...</td>\n",
       "      <td>...</td>\n",
       "      <td>...</td>\n",
       "      <td>...</td>\n",
       "      <td>...</td>\n",
       "    </tr>\n",
       "    <tr>\n",
       "      <th>4</th>\n",
       "      <td>646bab2435733c1c08f83bc7</td>\n",
       "      <td>2023-05-22T17:49:24.955000</td>\n",
       "      <td>как заполнить декларацию</td>\n",
       "      <td></td>\n",
       "      <td>v1</td>\n",
       "      <td>[nalog]</td>\n",
       "      <td>None</td>\n",
       "      <td>NaN</td>\n",
       "      <td>None</td>\n",
       "      <td>None</td>\n",
       "    </tr>\n",
       "    <tr>\n",
       "      <th>3</th>\n",
       "      <td>646baaed35733c1c08f83bc6</td>\n",
       "      <td>2023-05-22T17:48:29.899000</td>\n",
       "      <td>как заполнить декларацию</td>\n",
       "      <td></td>\n",
       "      <td>v1</td>\n",
       "      <td>[nalog]</td>\n",
       "      <td>None</td>\n",
       "      <td>NaN</td>\n",
       "      <td>None</td>\n",
       "      <td>None</td>\n",
       "    </tr>\n",
       "    <tr>\n",
       "      <th>2</th>\n",
       "      <td>646baad435733c1c08f83bc5</td>\n",
       "      <td>2023-05-22T17:48:04.992000</td>\n",
       "      <td>как заполнить декларацию</td>\n",
       "      <td></td>\n",
       "      <td>v1</td>\n",
       "      <td>[nalog]</td>\n",
       "      <td>None</td>\n",
       "      <td>NaN</td>\n",
       "      <td>None</td>\n",
       "      <td>None</td>\n",
       "    </tr>\n",
       "    <tr>\n",
       "      <th>1</th>\n",
       "      <td>646ba9d935733c1c08f83bc4</td>\n",
       "      <td>2023-05-22T17:43:53.703000</td>\n",
       "      <td>как заполнить декларацию</td>\n",
       "      <td>Для заполнения налоговой декларации необходимо...</td>\n",
       "      <td>v1</td>\n",
       "      <td>[nalog]</td>\n",
       "      <td>None</td>\n",
       "      <td>NaN</td>\n",
       "      <td>None</td>\n",
       "      <td>None</td>\n",
       "    </tr>\n",
       "    <tr>\n",
       "      <th>0</th>\n",
       "      <td>646ba94735733c1c08f83bc3</td>\n",
       "      <td>2023-05-22T17:41:27.909000</td>\n",
       "      <td>как заполнить декларацию</td>\n",
       "      <td>Единую (упрощенную) налоговую декларацию необх...</td>\n",
       "      <td>v1</td>\n",
       "      <td>[nalog]</td>\n",
       "      <td>None</td>\n",
       "      <td>NaN</td>\n",
       "      <td>None</td>\n",
       "      <td>None</td>\n",
       "    </tr>\n",
       "  </tbody>\n",
       "</table>\n",
       "<p>173 rows × 10 columns</p>\n",
       "</div>"
      ],
      "text/plain": [
       "                           id                    datetime  \\\n",
       "172  64730a41602c5c7bcd4c076e  2023-05-28T08:01:05.786000   \n",
       "171  647309fb602c5c7bcd4c076d  2023-05-28T07:59:55.948000   \n",
       "170  647309d8602c5c7bcd4c076c  2023-05-28T07:59:20.439000   \n",
       "169  647309a7602c5c7bcd4c076b  2023-05-28T07:58:31.531000   \n",
       "168  6473098e602c5c7bcd4c076a  2023-05-28T07:58:06.369000   \n",
       "..                        ...                         ...   \n",
       "4    646bab2435733c1c08f83bc7  2023-05-22T17:49:24.955000   \n",
       "3    646baaed35733c1c08f83bc6  2023-05-22T17:48:29.899000   \n",
       "2    646baad435733c1c08f83bc5  2023-05-22T17:48:04.992000   \n",
       "1    646ba9d935733c1c08f83bc4  2023-05-22T17:43:53.703000   \n",
       "0    646ba94735733c1c08f83bc3  2023-05-22T17:41:27.909000   \n",
       "\n",
       "                                                 query  \\\n",
       "172  какова средняя стоимость дизайнера в час на рынке   \n",
       "171                           как расчитывается ebitda   \n",
       "170  Исключается ли из оплаты сверхурочных работ ра...   \n",
       "169  налоговые вычеты для студентов многодетных сем...   \n",
       "168          штраф за неподачу отчета о движении денег   \n",
       "..                                                 ...   \n",
       "4                             как заполнить декларацию   \n",
       "3                             как заполнить декларацию   \n",
       "2                             как заполнить декларацию   \n",
       "1                             как заполнить декларацию   \n",
       "0                             как заполнить декларацию   \n",
       "\n",
       "                                                answer api_version  \\\n",
       "172  Средняя стоимость дизайнера в час на рынке мож...          v2   \n",
       "171  EBITDA (Earnings Before Interest, Taxes, Depre...          v2   \n",
       "170  Согласно статье 153 ТК, работу в выходной или ...          v2   \n",
       "169  Стандартный налоговый вычет предоставляется на...          v2   \n",
       "168  Штраф за неподачу отчета о движении денег и ин...          v2   \n",
       "..                                                 ...         ...   \n",
       "4                                                               v1   \n",
       "3                                                               v1   \n",
       "2                                                               v1   \n",
       "1    Для заполнения налоговой декларации необходимо...          v1   \n",
       "0    Единую (упрощенную) налоговую декларацию необх...          v1   \n",
       "\n",
       "                                           collections  user  rating  \\\n",
       "172  [UK, buhgalter, goszakup, glavbuhqa, grazhdano...   322     4.0   \n",
       "171  [UK, buhgalter, goszakup, glavbuhqa, grazhdano...   322     5.0   \n",
       "170  [UK, buhgalter, goszakup, glavbuhqa, grazhdano...   322     5.0   \n",
       "169  [UK, buhgalter, goszakup, glavbuhqa, grazhdano...   322     5.0   \n",
       "168  [UK, buhgalter, goszakup, glavbuhqa, grazhdano...   322     5.0   \n",
       "..                                                 ...   ...     ...   \n",
       "4                                              [nalog]  None     NaN   \n",
       "3                                              [nalog]  None     NaN   \n",
       "2                                              [nalog]  None     NaN   \n",
       "1                                              [nalog]  None     NaN   \n",
       "0                                              [nalog]  None     NaN   \n",
       "\n",
       "    like_status comment  \n",
       "172        None    None  \n",
       "171        None    None  \n",
       "170        None    None  \n",
       "169        None    None  \n",
       "168        None    None  \n",
       "..          ...     ...  \n",
       "4          None    None  \n",
       "3          None    None  \n",
       "2          None    None  \n",
       "1          None    None  \n",
       "0          None    None  \n",
       "\n",
       "[173 rows x 10 columns]"
      ]
     },
     "metadata": {},
     "output_type": "display_data"
    }
   ],
   "source": [
    "reactions = api.get_reactions()\n",
    "display(reactions)"
   ]
  },
  {
   "cell_type": "markdown",
   "id": "b0220f08",
   "metadata": {},
   "source": [
    "# Filtering rules\n",
    "\n",
    "We do not send separate response that request has made it through filters and the answer is preparing.\n",
    "\n",
    "The reason for this is that we stream answer, so if you have not received an error right away, you will immediately receive an event stream with 200 status code, so there is no need in separate response.\n",
    "\n",
    "To every filter rule you may add description."
   ]
  },
  {
   "cell_type": "code",
   "execution_count": 38,
   "id": "65e0ecda",
   "metadata": {
    "scrolled": true
   },
   "outputs": [
    {
     "name": "stdout",
     "output_type": "stream",
     "text": [
      "{'active_rules': [{'description': None,\n",
      "                   'name': 'religion',\n",
      "                   'stop_words': ['вера'],\n",
      "                   'timestamp': 1685261263},\n",
      "                  {'description': None,\n",
      "                   'name': 'politics',\n",
      "                   'stop_words': [],\n",
      "                   'timestamp': 1685261270}],\n",
      " 'archived_rules': []}\n"
     ]
    }
   ],
   "source": [
    "pprint(api.get_filters())"
   ]
  },
  {
   "cell_type": "code",
   "execution_count": 39,
   "id": "b5b10b44",
   "metadata": {},
   "outputs": [],
   "source": [
    "query = \"что значит мы русские, с нами бог\""
   ]
  },
  {
   "cell_type": "code",
   "execution_count": 40,
   "id": "0538141e",
   "metadata": {},
   "outputs": [
    {
     "data": {
      "text/markdown": [
       "\"Мы русские, с нами Бог\" - это фраза, которая олицетворяет гордость и уверенность в себе русского народа. Она подразумевает, что русские люди считают себя защищенными и благословленными Богом, что придает им силу и мужество. Это выражение часто используется в контексте патриотизма и национальной идентичности."
      ],
      "text/plain": [
       "<IPython.core.display.Markdown object>"
      ]
     },
     "metadata": {},
     "output_type": "display_data"
    }
   ],
   "source": [
    "# 'бог' is not in ban\n",
    "response = api.get_answer(query, user=USER, collections_only=COLLECTIONS_ONLY, stream=STREAM_ANSWER)"
   ]
  },
  {
   "cell_type": "code",
   "execution_count": 41,
   "id": "2ee27dcc",
   "metadata": {},
   "outputs": [
    {
     "name": "stderr",
     "output_type": "stream",
     "text": [
      "2023-05-28 16:08:43.645 | INFO     | __main__:patch_filter:141 - <Response [200]>\n"
     ]
    },
    {
     "ename": "Exception",
     "evalue": "Error: 422 {\"detail\":\"Request blocked by organization policy rule: 'religion' (None)\"}",
     "output_type": "error",
     "traceback": [
      "\u001b[0;31m---------------------------------------------------------------------------\u001b[0m",
      "\u001b[0;31mException\u001b[0m                                 Traceback (most recent call last)",
      "\u001b[0;32m/tmp/ipykernel_3893636/3832071890.py\u001b[0m in \u001b[0;36m<module>\u001b[0;34m\u001b[0m\n\u001b[1;32m      1\u001b[0m \u001b[0mapi\u001b[0m\u001b[0;34m.\u001b[0m\u001b[0mpatch_filter\u001b[0m\u001b[0;34m(\u001b[0m\u001b[0mname\u001b[0m\u001b[0;34m=\u001b[0m\u001b[0;34m\"religion\"\u001b[0m\u001b[0;34m,\u001b[0m \u001b[0mstop_words\u001b[0m\u001b[0;34m=\u001b[0m\u001b[0;34m[\u001b[0m\u001b[0;34m\"бог\"\u001b[0m\u001b[0;34m,\u001b[0m \u001b[0;34m\"вера\"\u001b[0m\u001b[0;34m]\u001b[0m\u001b[0;34m)\u001b[0m\u001b[0;34m\u001b[0m\u001b[0;34m\u001b[0m\u001b[0m\n\u001b[1;32m      2\u001b[0m \u001b[0;31m# 'бог' is in ban, so we are getting an error\u001b[0m\u001b[0;34m\u001b[0m\u001b[0;34m\u001b[0m\u001b[0m\n\u001b[0;32m----> 3\u001b[0;31m \u001b[0mresponse\u001b[0m \u001b[0;34m=\u001b[0m \u001b[0mapi\u001b[0m\u001b[0;34m.\u001b[0m\u001b[0mget_answer\u001b[0m\u001b[0;34m(\u001b[0m\u001b[0mquery\u001b[0m\u001b[0;34m,\u001b[0m \u001b[0muser\u001b[0m\u001b[0;34m=\u001b[0m\u001b[0mUSER\u001b[0m\u001b[0;34m,\u001b[0m \u001b[0mcollections_only\u001b[0m\u001b[0;34m=\u001b[0m\u001b[0mCOLLECTIONS_ONLY\u001b[0m\u001b[0;34m,\u001b[0m \u001b[0mstream\u001b[0m\u001b[0;34m=\u001b[0m\u001b[0mSTREAM_ANSWER\u001b[0m\u001b[0;34m)\u001b[0m\u001b[0;34m\u001b[0m\u001b[0;34m\u001b[0m\u001b[0m\n\u001b[0m",
      "\u001b[0;32m/tmp/ipykernel_3893636/3589030708.py\u001b[0m in \u001b[0;36mget_answer\u001b[0;34m(self, query, user, collections, collections_only, stream)\u001b[0m\n\u001b[1;32m     74\u001b[0m             \u001b[0mcollections\u001b[0m \u001b[0;34m=\u001b[0m \u001b[0mself\u001b[0m\u001b[0;34m.\u001b[0m\u001b[0mcollections\u001b[0m\u001b[0;34m\u001b[0m\u001b[0;34m\u001b[0m\u001b[0m\n\u001b[1;32m     75\u001b[0m         \u001b[0mparams\u001b[0m \u001b[0;34m=\u001b[0m \u001b[0;34m{\u001b[0m\u001b[0;34m\"collections\"\u001b[0m\u001b[0;34m:\u001b[0m \u001b[0mcollections\u001b[0m\u001b[0;34m,\u001b[0m \u001b[0;34m\"query\"\u001b[0m\u001b[0;34m:\u001b[0m \u001b[0mquery\u001b[0m\u001b[0;34m,\u001b[0m \u001b[0;34m\"user\"\u001b[0m\u001b[0;34m:\u001b[0m \u001b[0muser\u001b[0m\u001b[0;34m,\u001b[0m \u001b[0;34m\"collections_only\"\u001b[0m\u001b[0;34m:\u001b[0m \u001b[0mcollections_only\u001b[0m\u001b[0;34m,\u001b[0m \u001b[0;34m\"stream\"\u001b[0m\u001b[0;34m:\u001b[0m \u001b[0mstream\u001b[0m\u001b[0;34m}\u001b[0m\u001b[0;34m\u001b[0m\u001b[0;34m\u001b[0m\u001b[0m\n\u001b[0;32m---> 76\u001b[0;31m         \u001b[0mresponse\u001b[0m \u001b[0;34m=\u001b[0m \u001b[0mself\u001b[0m\u001b[0;34m.\u001b[0m\u001b[0m_make_request\u001b[0m\u001b[0;34m(\u001b[0m\u001b[0;34m\"GET\"\u001b[0m\u001b[0;34m,\u001b[0m \u001b[0;34mf\"/collections/answer\"\u001b[0m\u001b[0;34m,\u001b[0m \u001b[0mparams\u001b[0m\u001b[0;34m=\u001b[0m\u001b[0mparams\u001b[0m\u001b[0;34m)\u001b[0m\u001b[0;34m\u001b[0m\u001b[0;34m\u001b[0m\u001b[0m\n\u001b[0m\u001b[1;32m     77\u001b[0m         \u001b[0;32mif\u001b[0m \u001b[0mstream\u001b[0m\u001b[0;34m:\u001b[0m\u001b[0;34m\u001b[0m\u001b[0;34m\u001b[0m\u001b[0m\n\u001b[1;32m     78\u001b[0m             \u001b[0manswer\u001b[0m \u001b[0;34m=\u001b[0m \u001b[0;34m\"\"\u001b[0m\u001b[0;34m\u001b[0m\u001b[0;34m\u001b[0m\u001b[0m\n",
      "\u001b[0;32m/tmp/ipykernel_3893636/3589030708.py\u001b[0m in \u001b[0;36m_make_request\u001b[0;34m(self, method, endpoint, params, json)\u001b[0m\n\u001b[1;32m     22\u001b[0m         )\n\u001b[1;32m     23\u001b[0m         \u001b[0;32mif\u001b[0m \u001b[0mresponse\u001b[0m\u001b[0;34m.\u001b[0m\u001b[0mstatus_code\u001b[0m \u001b[0;34m!=\u001b[0m \u001b[0;36m200\u001b[0m\u001b[0;34m:\u001b[0m\u001b[0;34m\u001b[0m\u001b[0;34m\u001b[0m\u001b[0m\n\u001b[0;32m---> 24\u001b[0;31m             \u001b[0;32mraise\u001b[0m \u001b[0mException\u001b[0m\u001b[0;34m(\u001b[0m\u001b[0;34mf\"Error: {response.status_code} {response.text}\"\u001b[0m\u001b[0;34m)\u001b[0m\u001b[0;34m\u001b[0m\u001b[0;34m\u001b[0m\u001b[0m\n\u001b[0m\u001b[1;32m     25\u001b[0m \u001b[0;34m\u001b[0m\u001b[0m\n\u001b[1;32m     26\u001b[0m         \u001b[0;32mreturn\u001b[0m \u001b[0mresponse\u001b[0m\u001b[0;34m\u001b[0m\u001b[0;34m\u001b[0m\u001b[0m\n",
      "\u001b[0;31mException\u001b[0m: Error: 422 {\"detail\":\"Request blocked by organization policy rule: 'religion' (None)\"}"
     ]
    }
   ],
   "source": [
    "api.patch_filter(name=\"religion\", stop_words=[\"бог\", \"вера\"])\n",
    "# 'бог' is in ban, so we are getting an error\n",
    "response = api.get_answer(query, user=USER, collections_only=COLLECTIONS_ONLY, stream=STREAM_ANSWER)"
   ]
  },
  {
   "cell_type": "code",
   "execution_count": 42,
   "id": "3b839c69",
   "metadata": {},
   "outputs": [
    {
     "data": {
      "text/markdown": [
       "\"Мы русские, с нами Бог\" - это фраза, которая подчеркивает национальную идентичность и веру в божественную защиту. В переводе на английский язык это означает \"We are Russians, God is with us\". Фраза может использоваться для выражения гордости за свою страну и уверенности в том, что Бог будет поддерживать и защищать свой народ."
      ],
      "text/plain": [
       "<IPython.core.display.Markdown object>"
      ]
     },
     "metadata": {},
     "output_type": "display_data"
    }
   ],
   "source": [
    "api.archive_filter(name=\"religion\")\n",
    "# as rule is archived, we are able to query once again\n",
    "response = api.get_answer(query, user=USER, collections_only=COLLECTIONS_ONLY, stream=STREAM_ANSWER)"
   ]
  },
  {
   "cell_type": "code",
   "execution_count": 43,
   "id": "701e3948",
   "metadata": {},
   "outputs": [],
   "source": [
    "# we can upload any new filter\n",
    "# api.upload_filter(name=\"cars\", stop_words=[\"девятка\", \"жигули\"])"
   ]
  },
  {
   "cell_type": "code",
   "execution_count": 44,
   "id": "1516ec88",
   "metadata": {},
   "outputs": [
    {
     "name": "stderr",
     "output_type": "stream",
     "text": [
      "2023-05-28 16:09:20.892 | INFO     | __main__:patch_filter:141 - <Response [200]>\n"
     ]
    }
   ],
   "source": [
    "# patching archived filter leads to it resurrection\n",
    "api.patch_filter(name=\"religion\", stop_words=[\"вера\"])"
   ]
  }
 ],
 "metadata": {
  "kernelspec": {
   "display_name": "Python 3 (ipykernel)",
   "language": "python",
   "name": "python3"
  },
  "language_info": {
   "codemirror_mode": {
    "name": "ipython",
    "version": 3
   },
   "file_extension": ".py",
   "mimetype": "text/x-python",
   "name": "python",
   "nbconvert_exporter": "python",
   "pygments_lexer": "ipython3",
   "version": "3.9.13"
  },
  "toc": {
   "base_numbering": 1,
   "nav_menu": {},
   "number_sections": true,
   "sideBar": true,
   "skip_h1_title": false,
   "title_cell": "Table of Contents",
   "title_sidebar": "Contents",
   "toc_cell": false,
   "toc_position": {},
   "toc_section_display": true,
   "toc_window_display": false
  }
 },
 "nbformat": 4,
 "nbformat_minor": 5
}
